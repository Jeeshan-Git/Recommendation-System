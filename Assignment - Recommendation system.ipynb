{
 "cells": [
  {
   "cell_type": "code",
   "execution_count": 1,
   "id": "f3823bc9-7e4b-4559-8a39-b4042e761b34",
   "metadata": {},
   "outputs": [],
   "source": [
    "# Import necessary libraries\n",
    "import pandas as pd\n",
    "from sklearn.metrics.pairwise import cosine_similarity\n",
    "from sklearn.feature_extraction.text import TfidfVectorizer\n",
    "from sklearn.model_selection import train_test_split\n",
    "from sklearn.metrics import precision_score, recall_score, f1_score"
   ]
  },
  {
   "cell_type": "code",
   "execution_count": 5,
   "id": "eac30b77-4a65-4c8a-9460-f8ea6ae24388",
   "metadata": {},
   "outputs": [],
   "source": [
    "# Load the dataset\n",
    "df = pd.read_csv(\"C:\\\\Data science\\\\Assignments\\\\anime.csv\")"
   ]
  },
  {
   "cell_type": "code",
   "execution_count": 7,
   "id": "8a926aa0-fcda-455b-b6a6-11ed1a31d1bd",
   "metadata": {},
   "outputs": [
    {
     "name": "stdout",
     "output_type": "stream",
     "text": [
      "   anime_id                              name  \\\n",
      "0     32281                    Kimi no Na wa.   \n",
      "1      5114  Fullmetal Alchemist: Brotherhood   \n",
      "2     28977                          Gintama°   \n",
      "3      9253                       Steins;Gate   \n",
      "4      9969                     Gintama&#039;   \n",
      "\n",
      "                                               genre   type episodes  rating  \\\n",
      "0               Drama, Romance, School, Supernatural  Movie        1    9.37   \n",
      "1  Action, Adventure, Drama, Fantasy, Magic, Mili...     TV       64    9.26   \n",
      "2  Action, Comedy, Historical, Parody, Samurai, S...     TV       51    9.25   \n",
      "3                                   Sci-Fi, Thriller     TV       24    9.17   \n",
      "4  Action, Comedy, Historical, Parody, Samurai, S...     TV       51    9.16   \n",
      "\n",
      "   members  \n",
      "0   200630  \n",
      "1   793665  \n",
      "2   114262  \n",
      "3   673572  \n",
      "4   151266  \n"
     ]
    }
   ],
   "source": [
    "print(df.head())"
   ]
  },
  {
   "cell_type": "code",
   "execution_count": 9,
   "id": "0d7b99eb-5061-402a-8eb7-9ef26bd1ed95",
   "metadata": {},
   "outputs": [
    {
     "name": "stdout",
     "output_type": "stream",
     "text": [
      "anime_id      0\n",
      "name          0\n",
      "genre        62\n",
      "type         25\n",
      "episodes      0\n",
      "rating      230\n",
      "members       0\n",
      "dtype: int64\n"
     ]
    }
   ],
   "source": [
    "print(df.isnull().sum())"
   ]
  },
  {
   "cell_type": "code",
   "execution_count": 34,
   "id": "d2fbac92-2fec-44cd-a551-6079c3d08fac",
   "metadata": {},
   "outputs": [],
   "source": [
    "# Handle missing values\n",
    "\n",
    "# Fill missing values in numerical columns with 0\n",
    "num_cols = df.select_dtypes(include=['float64', 'int64']).columns\n",
    "df[num_cols] = df[num_cols].fillna(0)\n",
    "\n",
    "# Fill missing values in categorical columns with an empty string\n",
    "cat_cols = df.select_dtypes(include=['object']).columns\n",
    "df[cat_cols] = df[cat_cols].fillna('')"
   ]
  },
  {
   "cell_type": "code",
   "execution_count": 36,
   "id": "7e7d900a-06ed-4460-9411-c707108f79e5",
   "metadata": {},
   "outputs": [],
   "source": [
    "# Feature Extraction\n",
    "\n",
    "# Combine all relevant text features into a single feature\n",
    "df['features'] = df['genre'] + ' ' + df['type'] + ' ' + df['name']"
   ]
  },
  {
   "cell_type": "code",
   "execution_count": 38,
   "id": "2c766c17-643e-4040-871f-102ea2990694",
   "metadata": {},
   "outputs": [],
   "source": [
    "# Convert the combined text features into numerical representations using TF-IDF Vectorizer\n",
    "tfidf = TfidfVectorizer(stop_words='english')\n",
    "tfidf_matrix = tfidf.fit_transform(df['features'])\n",
    "\n",
    "# Compute cosine similarity matrix\n",
    "cosine_sim = cosine_similarity(tfidf_matrix, tfidf_matrix)"
   ]
  },
  {
   "cell_type": "code",
   "execution_count": 20,
   "id": "40125d36-beda-4976-95e3-8ee889958be3",
   "metadata": {},
   "outputs": [
    {
     "name": "stdout",
     "output_type": "stream",
     "text": [
      "\n",
      "Anime similar to 'Naruto':\n",
      "719                            The Last: Naruto the Movie\n",
      "615                                    Naruto: Shippuuden\n",
      "1343                                          Naruto x UT\n",
      "486                              Boruto: Naruto the Movie\n",
      "2458                 Naruto Shippuuden: Sunny Side Battle\n",
      "1103    Boruto: Naruto the Movie - Naruto ga Hokage ni...\n",
      "784            Naruto: Shippuuden Movie 6 - Road to Ninja\n",
      "1930                                    Dragon Ball Super\n",
      "1472          Naruto: Shippuuden Movie 4 - The Lost Tower\n",
      "2416    Naruto: Honoo no Chuunin Shiken! Naruto vs. Ko...\n",
      "Name: name, dtype: object\n"
     ]
    }
   ],
   "source": [
    "# Recommendation System\n",
    "\n",
    "def get_recommendations(title, cosine_sim=cosine_sim):\n",
    "    # Get the index of the anime that matches the title\n",
    "    idx = df.index[df['name'] == title].tolist()[0]\n",
    "\n",
    "    # Get the pairwise similarity scores of all anime with that anime\n",
    "    sim_scores = list(enumerate(cosine_sim[idx]))\n",
    "\n",
    "    # Sort the anime based on the similarity scores\n",
    "    sim_scores = sorted(sim_scores, key=lambda x: x[1], reverse=True)\n",
    "\n",
    "    # Get the scores of the 10 most similar anime\n",
    "    sim_scores = sim_scores[1:11]\n",
    "\n",
    "    # Get the anime indices\n",
    "    anime_indices = [i[0] for i in sim_scores]\n",
    "\n",
    "    # Return the top 10 most similar anime\n",
    "    return df['name'].iloc[anime_indices]\n",
    "\n",
    "# Example: Recommend anime similar to a given anime title\n",
    "recommended_anime = get_recommendations('Naruto')\n",
    "print(\"\\nAnime similar to 'Naruto':\")\n",
    "print(recommended_anime)\n",
    "\n"
   ]
  },
  {
   "cell_type": "code",
   "execution_count": 30,
   "id": "3e4842fa-3d13-4bba-b043-ae1a760eaa6b",
   "metadata": {},
   "outputs": [
    {
     "name": "stdout",
     "output_type": "stream",
     "text": [
      "\n",
      "Evaluation Placeholder:\n"
     ]
    }
   ],
   "source": [
    "# Evaluation\n",
    "\n",
    "# Split the dataset into training and testing sets\n",
    "train, test = train_test_split(df, test_size=0.2, random_state=42)\n",
    "\n",
    "# Generate recommendations for the test set\n",
    "test['predicted_recommendations'] = test['name'].apply(lambda x: ', '.join(get_recommendations(x)))\n",
    "\n",
    "print(\"\\nEvaluation Placeholder:\")"
   ]
  },
  {
   "cell_type": "code",
   "execution_count": 31,
   "id": "5f41e0cc-8c88-47a0-b137-92caa2b1b657",
   "metadata": {},
   "outputs": [
    {
     "name": "stderr",
     "output_type": "stream",
     "text": [
      "C:\\Users\\jeeshan\\anaconda3\\Lib\\site-packages\\sklearn\\metrics\\_classification.py:1509: UndefinedMetricWarning: Precision is ill-defined and being set to 0.0 in labels with no predicted samples. Use `zero_division` parameter to control this behavior.\n",
      "  _warn_prf(average, modifier, f\"{metric.capitalize()} is\", len(result))\n",
      "C:\\Users\\jeeshan\\anaconda3\\Lib\\site-packages\\sklearn\\metrics\\_classification.py:1509: UndefinedMetricWarning: Recall is ill-defined and being set to 0.0 in labels with no true samples. Use `zero_division` parameter to control this behavior.\n",
      "  _warn_prf(average, modifier, f\"{metric.capitalize()} is\", len(result))\n"
     ]
    },
    {
     "name": "stdout",
     "output_type": "stream",
     "text": [
      "\n",
      "Evaluation Metrics:\n",
      "Precision: 0.0\n",
      "Recall: 0.0\n",
      "F1-Score: 0.0\n"
     ]
    }
   ],
   "source": [
    "# Evaluation metrics (assuming we have true positive, false positive, etc.)\n",
    "# This is a placeholder for actual evaluation, which depends on the available data\n",
    "precision = precision_score(test['name'], test['predicted_recommendations'], average='macro')\n",
    "recall = recall_score(test['name'], test['predicted_recommendations'], average='macro')\n",
    "f1 = f1_score(test['name'], test['predicted_recommendations'], average='macro')\n",
    "\n",
    "print(\"\\nEvaluation Metrics:\")\n",
    "print(f\"Precision: {precision}\")\n",
    "print(f\"Recall: {recall}\")\n",
    "print(f\"F1-Score: {f1}\")"
   ]
  },
  {
   "cell_type": "code",
   "execution_count": null,
   "id": "2b756825-edf0-4b8e-b890-f6215ca0fe7e",
   "metadata": {},
   "outputs": [],
   "source": [
    "### Interview Questions and Answers\n",
    "\n",
    "#### 1. Can you explain the difference between user-based and item-based collaborative filtering?\n",
    "\n",
    "**Answer:**\n",
    "\n",
    "- **User-Based Collaborative Filtering**:\n",
    "  - User-based collaborative filtering finds similar users based on their past behaviors (such as ratings or interactions with items). The idea is that if two users have similar preferences, they will likely like the same items. For a target user, recommendations are generated based on the preferences of users who are similar to them.\n",
    "  - Example: If User A and User B both like the same movies, and User A likes a new movie, then User B is likely to enjoy that movie as well.\n",
    "\n",
    "- **Item-Based Collaborative Filtering**:\n",
    "  - Item-based collaborative filtering, on the other hand, focuses on finding similarities between items. The recommendation is generated based on the similarity of items. If a user likes an item, similar items are recommended to them.\n",
    "  - Example: If a user likes a specific book, the system recommends books that are similar to it based on past interactions.\n",
    "\n",
    "#### 2. What is collaborative filtering, and how does it work?\n",
    "\n",
    "**Answer:**\n",
    "\n",
    "- **Collaborative Filtering**:\n",
    "  - Collaborative filtering is a method used by recommendation systems to predict what items a user might like based on the preferences of many users. It leverages the collective behavior of users (such as ratings, likes, or clicks) to make recommendations.\n",
    "\n",
    "- **How It Works**:\n",
    "  - Collaborative filtering works by identifying patterns and relationships in user behavior. There are two main types:\n",
    "    1. **User-Based Collaborative Filtering**: \n",
    "       - Finds similarities between users. For a given user, the system recommends items that similar users have liked.\n",
    "       - Steps:\n",
    "         1. Calculate the similarity between users.\n",
    "         2. Select a set of similar users.\n",
    "         3. Recommend items that these users have liked.\n",
    "       \n",
    "    2. **Item-Based Collaborative Filtering**: \n",
    "       - Finds similarities between items. For a given item, the system recommends other items that are similar.\n",
    "       - Steps:\n",
    "         1. Calculate the similarity between items.\n",
    "         2. For a given user, recommend items similar to those the user has liked.\n",
    "         \n",
    "- **Advantages**:\n",
    "  - Can provide recommendations without needing detailed information about items (content), only user behavior is required.\n",
    "  \n",
    "- **Challenges**:\n",
    "  - **Cold Start Problem**: Difficulty in recommending items to new users or for new items that have no ratings.\n",
    "  - **Sparsity**: When user-item interactions are sparse, finding reliable similar users or items becomes challenging.\n",
    "\n"
   ]
  },
  {
   "cell_type": "code",
   "execution_count": null,
   "id": "8c2d6ad1-d6cb-4d5c-9f57-57eaade44942",
   "metadata": {},
   "outputs": [],
   "source": []
  }
 ],
 "metadata": {
  "kernelspec": {
   "display_name": "Python 3 (ipykernel)",
   "language": "python",
   "name": "python3"
  },
  "language_info": {
   "codemirror_mode": {
    "name": "ipython",
    "version": 3
   },
   "file_extension": ".py",
   "mimetype": "text/x-python",
   "name": "python",
   "nbconvert_exporter": "python",
   "pygments_lexer": "ipython3",
   "version": "3.12.4"
  }
 },
 "nbformat": 4,
 "nbformat_minor": 5
}
